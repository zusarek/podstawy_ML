{
 "cells": [
  {
   "cell_type": "markdown",
   "metadata": {},
   "source": [
    "# Analiza podobnych dokumentów"
   ]
  },
  {
   "cell_type": "markdown",
   "metadata": {},
   "source": [
    "## Zacznijmy od importu potrzebnych bibiotek"
   ]
  },
  {
   "cell_type": "code",
   "execution_count": null,
   "metadata": {},
   "outputs": [],
   "source": [
    "import pandas as pd\n",
    "import numpy as np\n",
    "import sklearn.feature_extraction.text as txt\n",
    "from scipy.spatial.distance import euclidean\n",
    "from sklearn.neighbors import NearestNeighbors"
   ]
  },
  {
   "cell_type": "markdown",
   "metadata": {},
   "source": [
    "## Załadujmy dane na temat różnych ludzi"
   ]
  },
  {
   "cell_type": "code",
   "execution_count": null,
   "metadata": {},
   "outputs": [],
   "source": [
    "people = pd.read_csv('dane/people_wiki.csv')"
   ]
  },
  {
   "cell_type": "markdown",
   "metadata": {},
   "source": [
    "## Przyjrzyjmy się tym danym"
   ]
  },
  {
   "cell_type": "code",
   "execution_count": null,
   "metadata": {},
   "outputs": [],
   "source": [
    "people.head()"
   ]
  },
  {
   "cell_type": "markdown",
   "metadata": {},
   "source": [
    "## Wybierz swoją postać"
   ]
  },
  {
   "cell_type": "markdown",
   "metadata": {},
   "source": [
    "### Kilka przykładowych postaci"
   ]
  },
  {
   "cell_type": "code",
   "execution_count": null,
   "metadata": {},
   "outputs": [],
   "source": [
    "gates = people[people['name'] == 'Bill Gates']\n",
    "clooney = people[people['name'] == 'George Clooney']\n",
    "therock = people[people['name'] == 'Dwayne Johnson']\n",
    "\n",
    "my_celeb = therock"
   ]
  },
  {
   "cell_type": "markdown",
   "metadata": {},
   "source": [
    "### Życiorys wybranej postaci"
   ]
  },
  {
   "cell_type": "code",
   "execution_count": null,
   "metadata": {},
   "outputs": [],
   "source": [
    "my_celeb.text.iloc[0]"
   ]
  },
  {
   "cell_type": "markdown",
   "metadata": {},
   "source": [
    "## Policzmy słowa w artykule nt. wybranej postaci"
   ]
  },
  {
   "cell_type": "code",
   "execution_count": null,
   "metadata": {},
   "outputs": [],
   "source": [
    "my_vect = txt.CountVectorizer()\n",
    "my_counts = my_vect.fit_transform(my_celeb.text)\n",
    "my_counts_df = pd.DataFrame.sparse.from_spmatrix(my_counts).T\n",
    "my_counts_df.rename(columns={0: 'count'}, inplace=True)\n",
    "my_counts_df['word'] = pd.DataFrame(my_vect.get_feature_names_out())\n",
    "my_counts_df = my_counts_df[my_counts_df['count'] != 0.]\n",
    "my_counts_df.sort_values(by='count', ascending=False, inplace=True)\n",
    "my_counts_df.head(10)"
   ]
  },
  {
   "cell_type": "markdown",
   "metadata": {},
   "source": [
    "## Obliczmy TF-IDF dla całego zbioru artykułów"
   ]
  },
  {
   "cell_type": "code",
   "execution_count": null,
   "metadata": {},
   "outputs": [],
   "source": [
    "tfidf_vect = txt.TfidfVectorizer()\n",
    "matrix = tfidf_vect.fit_transform(people.text)"
   ]
  },
  {
   "cell_type": "markdown",
   "metadata": {},
   "source": [
    "## Zbadajmy TF-IDF dla wybranej postaci"
   ]
  },
  {
   "cell_type": "code",
   "execution_count": null,
   "metadata": {},
   "outputs": [],
   "source": [
    "tfidf_celeb = tfidf_vect.transform(my_celeb.text)\n",
    "tfidf_celeb_df = pd.DataFrame.sparse.from_spmatrix(tfidf_celeb).T\n",
    "tfidf_celeb_df.rename(columns={0: 'tfidf'}, inplace=True)\n",
    "tfidf_celeb_df['word'] = pd.DataFrame(tfidf_vect.get_feature_names_out())\n",
    "tfidf_celeb_df = tfidf_celeb_df[tfidf_celeb_df['tfidf'] != 0.]\n",
    "tfidf_celeb_df.sort_values(by='tfidf', ascending=False, inplace=True)\n",
    "tfidf_celeb_df.head(10)"
   ]
  },
  {
   "cell_type": "markdown",
   "metadata": {},
   "source": [
    "## Zmierzmy dystans między tekstami opisującymi różne postacie"
   ]
  },
  {
   "cell_type": "markdown",
   "metadata": {},
   "source": [
    "### Kilka przykładowych postaci"
   ]
  },
  {
   "cell_type": "code",
   "execution_count": null,
   "metadata": {},
   "outputs": [],
   "source": [
    "taylor = people[people['name'] == 'Taylor Swift']\n",
    "alicia = people[people['name'] == 'Alicia Keys']\n",
    "therock = people[people['name'] == 'Dwayne Johnson']\n",
    "\n",
    "celeb_1 = taylor\n",
    "celeb_2 = alicia"
   ]
  },
  {
   "cell_type": "markdown",
   "metadata": {},
   "source": [
    "### Wektoryzacja celebrytów"
   ]
  },
  {
   "cell_type": "code",
   "execution_count": null,
   "metadata": {},
   "outputs": [],
   "source": [
    "tfidf_celeb_1 = tfidf_vect.transform(celeb_1.text).toarray()\n",
    "tfidf_celeb_2 = tfidf_vect.transform(celeb_2.text).toarray()"
   ]
  },
  {
   "cell_type": "markdown",
   "metadata": {},
   "source": [
    "### Dystans między celebrytami"
   ]
  },
  {
   "cell_type": "code",
   "execution_count": null,
   "metadata": {},
   "outputs": [],
   "source": [
    "euclidean(tfidf_celeb_1, tfidf_celeb_2)"
   ]
  },
  {
   "cell_type": "markdown",
   "metadata": {},
   "source": [
    "## Algorytm najbliższych sąsiadów"
   ]
  },
  {
   "cell_type": "markdown",
   "metadata": {},
   "source": [
    "### Zbudujmy model"
   ]
  },
  {
   "cell_type": "code",
   "execution_count": null,
   "metadata": {},
   "outputs": [],
   "source": [
    "knn_model = NearestNeighbors(n_neighbors=5, algorithm='auto').fit(matrix)"
   ]
  },
  {
   "cell_type": "markdown",
   "metadata": {},
   "source": [
    "### Sprawdźmy, kto jest najbardziej podobny do wybranej postaci"
   ]
  },
  {
   "cell_type": "markdown",
   "metadata": {},
   "source": [
    "#### Eksperymentuj z różnymi postaciami"
   ]
  },
  {
   "cell_type": "code",
   "execution_count": null,
   "metadata": {},
   "outputs": [],
   "source": [
    "name = 'Taylor Swift'\n",
    "# 'Angelina Jolie', 'Arnold Schwarzenegger', 'Tom Hardy'"
   ]
  },
  {
   "cell_type": "code",
   "execution_count": null,
   "metadata": {},
   "outputs": [],
   "source": [
    "row = people[people.name==name].index.tolist()[0]\n",
    "closest_friends = knn_model.kneighbors(matrix.getrow(row), return_distance=True)\n",
    "names_index = closest_friends[1][0]\n",
    "names = [people.iloc[row]['name'] for row in names_index]\n",
    "distances = closest_friends[0][0]\n",
    "pd.DataFrame({'Distances': distances,'Neighbours':names })"
   ]
  },
  {
   "cell_type": "code",
   "execution_count": null,
   "metadata": {},
   "outputs": [],
   "source": []
  }
 ],
 "metadata": {
  "kernelspec": {
   "display_name": "Python 3 (ipykernel)",
   "language": "python",
   "name": "python3"
  },
  "language_info": {
   "codemirror_mode": {
    "name": "ipython",
    "version": 3
   },
   "file_extension": ".py",
   "mimetype": "text/x-python",
   "name": "python",
   "nbconvert_exporter": "python",
   "pygments_lexer": "ipython3",
   "version": "3.10.4"
  }
 },
 "nbformat": 4,
 "nbformat_minor": 4
}
