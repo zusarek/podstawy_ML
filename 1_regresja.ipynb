{
 "cells": [
  {
   "cell_type": "markdown",
   "metadata": {
    "tags": []
   },
   "source": [
    "# Wycena nieruchomości"
   ]
  },
  {
   "cell_type": "markdown",
   "metadata": {},
   "source": [
    "## Ładujemy niezbędne bibioteki"
   ]
  },
  {
   "cell_type": "code",
   "execution_count": null,
   "metadata": {},
   "outputs": [],
   "source": [
    "import pandas as pd\n",
    "import numpy as np\n",
    "import matplotlib\n",
    "from sklearn.model_selection import train_test_split\n",
    "from sklearn.linear_model import LinearRegression"
   ]
  },
  {
   "cell_type": "markdown",
   "metadata": {},
   "source": [
    "## Importujemy plik z danymi"
   ]
  },
  {
   "cell_type": "code",
   "execution_count": null,
   "metadata": {},
   "outputs": [],
   "source": [
    "sales = pd.read_csv('dane/home_data.csv', index_col='id')"
   ]
  },
  {
   "cell_type": "markdown",
   "metadata": {},
   "source": [
    "## Przyjrzyjmy się zawartości wczytanego pliku"
   ]
  },
  {
   "cell_type": "code",
   "execution_count": null,
   "metadata": {},
   "outputs": [],
   "source": [
    "sales.head()"
   ]
  },
  {
   "cell_type": "markdown",
   "metadata": {},
   "source": [
    "## Zależność ceny sprzedaży od powierzchni mieszkalnej"
   ]
  },
  {
   "cell_type": "code",
   "execution_count": null,
   "metadata": {},
   "outputs": [],
   "source": [
    "sales.plot.scatter(x='sqft_living', y='price')"
   ]
  },
  {
   "cell_type": "markdown",
   "metadata": {
    "tags": []
   },
   "source": [
    "## Zbudujmy prosty model regresji pozwalający na wycenę nieruchomości na podstawie jej powierzchni"
   ]
  },
  {
   "cell_type": "markdown",
   "metadata": {},
   "source": [
    "### Dzielimy dane na zbiór treningowy i testowy"
   ]
  },
  {
   "cell_type": "code",
   "execution_count": null,
   "metadata": {},
   "outputs": [],
   "source": [
    "training_set, test_set = train_test_split(sales, test_size=0.2, random_state=0)"
   ]
  },
  {
   "cell_type": "markdown",
   "metadata": {},
   "source": [
    "### Wytrenujmy nasz model"
   ]
  },
  {
   "cell_type": "code",
   "execution_count": null,
   "metadata": {},
   "outputs": [],
   "source": [
    "df_to_vec = lambda x: np.array(x).reshape(-1, 1)\n",
    "sqft_model = LinearRegression().fit(df_to_vec(training_set['sqft_living']), training_set['price'])\n",
    "print('Średnia cena sprzedaży wynosi: ${:.0f}'.format(test_set['price'].mean()))"
   ]
  },
  {
   "cell_type": "markdown",
   "metadata": {},
   "source": [
    "### Czas na ocenę jakości naszego modelu"
   ]
  },
  {
   "cell_type": "code",
   "execution_count": null,
   "metadata": {},
   "outputs": [],
   "source": [
    "sqft_r2 = sqft_model.score(df_to_vec(test_set['sqft_living']), test_set['price'])\n",
    "print('R^2 = {:.3f}'.format(sqft_r2))"
   ]
  },
  {
   "cell_type": "markdown",
   "metadata": {},
   "source": [
    "### Jak wypada nasz model na tle rzeczywistych danych?"
   ]
  },
  {
   "cell_type": "code",
   "execution_count": null,
   "metadata": {},
   "outputs": [],
   "source": [
    "feature_col = test_set['sqft_living']\n",
    "matplotlib.pyplot.plot(feature_col, test_set['price'],'.',\n",
    "                       feature_col, sqft_model.predict(df_to_vec(feature_col)),'-')"
   ]
  },
  {
   "cell_type": "markdown",
   "metadata": {},
   "source": [
    "### Parametry modelu"
   ]
  },
  {
   "cell_type": "code",
   "execution_count": null,
   "metadata": {},
   "outputs": [],
   "source": [
    "slope = sqft_model.coef_[0]\n",
    "intercept = sqft_model.intercept_\n",
    "print('Nachylenie: ${:.0f} za sqft\\nPrzesunięcie: -${:.0f}'.format(slope, -intercept))"
   ]
  },
  {
   "cell_type": "markdown",
   "metadata": {
    "tags": []
   },
   "source": [
    "## Dodajmy więcej cech do naszego modelu"
   ]
  },
  {
   "cell_type": "markdown",
   "metadata": {},
   "source": [
    "Pozwól sobie na eksperymentowanie z zawartością listy my_features.\n",
    "Postaraj się uzyskać jak najlepsze dopasowanie."
   ]
  },
  {
   "cell_type": "code",
   "execution_count": null,
   "metadata": {},
   "outputs": [],
   "source": [
    "my_features = ['bedrooms','bathrooms','sqft_living','sqft_lot','floors','zipcode']\n",
    "sales[my_features].head()"
   ]
  },
  {
   "cell_type": "markdown",
   "metadata": {},
   "source": [
    "### Trochę statystyki"
   ]
  },
  {
   "cell_type": "code",
   "execution_count": null,
   "metadata": {},
   "outputs": [],
   "source": [
    "sales[my_features].describe()"
   ]
  },
  {
   "cell_type": "markdown",
   "metadata": {},
   "source": [
    "### Wytrenujmy nasz model"
   ]
  },
  {
   "cell_type": "code",
   "execution_count": null,
   "metadata": {},
   "outputs": [],
   "source": [
    "my_features_model = LinearRegression().fit(training_set[my_features],\n",
    "                                           training_set['price'])"
   ]
  },
  {
   "cell_type": "markdown",
   "metadata": {
    "tags": []
   },
   "source": [
    "## Porównajmy oba modele"
   ]
  },
  {
   "cell_type": "code",
   "execution_count": null,
   "metadata": {},
   "outputs": [],
   "source": [
    "my_feat_r2 = my_features_model.score(test_set[my_features],\n",
    "                                     test_set['price'])\n",
    "print('R^2 dla prostego modelu = {:.3f}'.format(sqft_r2))\n",
    "print('R^2 dla bardziej złożonego modelu = {:.3f}'.format(my_feat_r2))"
   ]
  },
  {
   "cell_type": "markdown",
   "metadata": {},
   "source": [
    "## Korzystając z modeli postarajmy się wycenić wybrane nieruchomości"
   ]
  },
  {
   "cell_type": "markdown",
   "metadata": {},
   "source": [
    "Po prawej stronie house_id możesz wpisać dowolny numer występujący w zbiorze"
   ]
  },
  {
   "cell_type": "code",
   "execution_count": null,
   "metadata": {},
   "outputs": [],
   "source": [
    "house_id = 5309101200\n",
    "house1 = sales.loc[house_id]\n",
    "house1"
   ]
  },
  {
   "cell_type": "markdown",
   "metadata": {},
   "source": [
    "### Zdjęcie domu o numerze 5309101200"
   ]
  },
  {
   "cell_type": "markdown",
   "metadata": {},
   "source": [
    "<img src=\"obrazy/house1.png\">"
   ]
  },
  {
   "cell_type": "markdown",
   "metadata": {},
   "source": [
    "### Rzeczywista cena sprzedaży"
   ]
  },
  {
   "cell_type": "code",
   "execution_count": null,
   "metadata": {},
   "outputs": [],
   "source": [
    "print('${}'.format(house1['price']))"
   ]
  },
  {
   "cell_type": "markdown",
   "metadata": {},
   "source": [
    "### Szacunkowa cena dla prostego modelu"
   ]
  },
  {
   "cell_type": "code",
   "execution_count": null,
   "metadata": {},
   "outputs": [],
   "source": [
    "print(sqft_model.predict(df_to_vec(house1['sqft_living'])))"
   ]
  },
  {
   "cell_type": "markdown",
   "metadata": {},
   "source": [
    "### Szacunkowa cena dla bardziej złożonego modelu"
   ]
  },
  {
   "cell_type": "code",
   "execution_count": null,
   "metadata": {},
   "outputs": [],
   "source": [
    "df_to_row = lambda x: np.array(x).reshape(1, -1)\n",
    "print(my_features_model.predict(df_to_row(house1[my_features])))"
   ]
  },
  {
   "cell_type": "markdown",
   "metadata": {},
   "source": [
    "### Wycena innej nieruchomości"
   ]
  },
  {
   "cell_type": "code",
   "execution_count": null,
   "metadata": {},
   "outputs": [],
   "source": [
    "house2 = sales.loc[1925069082]\n",
    "house2"
   ]
  },
  {
   "cell_type": "markdown",
   "metadata": {},
   "source": [
    "### Zdjęcie domu o numerze 1925069082"
   ]
  },
  {
   "cell_type": "markdown",
   "metadata": {},
   "source": [
    "<img src=\"obrazy/house2.jpg\">"
   ]
  },
  {
   "cell_type": "markdown",
   "metadata": {},
   "source": [
    "### Szacunkowa cena dla prostego modelu"
   ]
  },
  {
   "cell_type": "code",
   "execution_count": null,
   "metadata": {},
   "outputs": [],
   "source": [
    "print(sqft_model.predict(df_to_vec(house2['sqft_living'])))"
   ]
  },
  {
   "cell_type": "markdown",
   "metadata": {},
   "source": [
    "### Szacunkowa cena dla bardziej złożonego modelu"
   ]
  },
  {
   "cell_type": "code",
   "execution_count": null,
   "metadata": {},
   "outputs": [],
   "source": [
    "print(my_features_model.predict(df_to_row(house2[my_features])))"
   ]
  },
  {
   "cell_type": "markdown",
   "metadata": {},
   "source": [
    "### Wycena rezydencji Billa Gatesa"
   ]
  },
  {
   "cell_type": "code",
   "execution_count": null,
   "metadata": {},
   "outputs": [],
   "source": [
    "bill_gates = {'bedrooms':8, \n",
    "              'bathrooms':25, \n",
    "              'sqft_living':50000, \n",
    "              'sqft_lot':225000,\n",
    "              'floors':4, \n",
    "              'zipcode':'98039', \n",
    "              'condition':10, \n",
    "              'grade':10,\n",
    "              'waterfront':1,\n",
    "              'view':4,\n",
    "              'sqft_above':37500,\n",
    "              'sqft_basement':12500,\n",
    "              'yr_built':1994,\n",
    "              'yr_renovated':2010,\n",
    "              'lat':47.627606,\n",
    "              'long':-122.242054,\n",
    "              'sqft_living15':5000,\n",
    "              'sqft_lot15':40000}"
   ]
  },
  {
   "cell_type": "markdown",
   "metadata": {},
   "source": [
    "<img src=\"https://upload.wikimedia.org/wikipedia/commons/2/26/Residence_of_Bill_Gates.jpg\">"
   ]
  },
  {
   "cell_type": "code",
   "execution_count": null,
   "metadata": {},
   "outputs": [],
   "source": [
    "pd.Series(bill_gates)"
   ]
  },
  {
   "cell_type": "code",
   "execution_count": null,
   "metadata": {},
   "outputs": [],
   "source": [
    "print(my_features_model.predict(df_to_row(pd.Series(bill_gates)[my_features])))"
   ]
  }
 ],
 "metadata": {
  "kernelspec": {
   "display_name": "Python 3 (ipykernel)",
   "language": "python",
   "name": "python3"
  },
  "language_info": {
   "codemirror_mode": {
    "name": "ipython",
    "version": 3
   },
   "file_extension": ".py",
   "mimetype": "text/x-python",
   "name": "python",
   "nbconvert_exporter": "python",
   "pygments_lexer": "ipython3",
   "version": "3.10.4"
  }
 },
 "nbformat": 4,
 "nbformat_minor": 4
}
